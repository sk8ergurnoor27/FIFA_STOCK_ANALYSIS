{
 "cells": [
  {
   "cell_type": "code",
   "execution_count": 1,
   "id": "7ca6ecad-1285-43a3-9e18-f32a58422794",
   "metadata": {},
   "outputs": [
    {
     "name": "stdout",
     "output_type": "stream",
     "text": [
      "💡 AI-Generated Insights:\n",
      "\n",
      "\n",
      "Insights:\n",
      "\n",
      "1. Stock EA has demonstrated substantial growth over the past decade with a notable increase of more than 107%. This indicates that it has been performing well relative to its industry peers or benchmark indices during this period, suggesting strong business fundamentals and effective management strategies within Company A (assuming 'EA' refers to EA Inc.).\n",
      "\n",
      "2. The best year on record for Stock EA is 2024, which could imply that the company experienced a significant breakthrough or entered into an advantageous market condition during this timeframe, such as launching innovative products, expanding its customer base, benefiting from regulatory changes, etc., leading to exceptional earnings and stock performance.\n",
      "\n",
      "3. Despite having a positive sentiment around EA, the correlation of 0influences other factors in the market that may impact Stock EA's price differently than these correlated assets or indices do so. However, since it is not near-perfectly positively correlated (1), this suggests some degree of diversification benefits as a part of an investment portfolio to mitigate systematic risk related to broader market movements.\n",
      "\n",
      "Recommendations: \n",
      "\n",
      "1. Given the strong historical growth and positive sentiment, it might be advisable for new or existing investors considering stock EA to look into its long-term potential by researching more about Company A's business model, competitive advantage, sector outlook, etc., before making an entry decision if not already invested.\n",
      "\n",
      "2. For current shareholders of Stock EA (EA Inc.), review their investment horizon and risk tolerance to decide whether they should hold onto the stock for potential future growth or reallocate assets based on a more in-depth understanding that goes beyond price movements, such as financial health analysis, management team performance reviews, etc.\n",
      "\n",
      "Risk: \n",
      "\n",
      "1. The worst year being 2016 indicates volatility and raises concerns about the company's resilience to adverse market conditions or operational challenges during that period. This could be a signal for investors in Stock EA to perform due diligence on any specific events from 2016 which may have triggered such underperformance, including industry downturns, regulatory changes, leadership issues within the company, etc., before proceeding with additional investments or divestment.\n"
     ]
    }
   ],
   "source": [
    "import yfinance as yf\n",
    "import pandas as pd\n",
    "import requests\n",
    "\n",
    "# ✅ Get historical stock data\n",
    "ticker = \"EA\"  # You can change this to AAPL, TSLA, etc.\n",
    "df = yf.Ticker(ticker).history(period=\"10y\").reset_index()\n",
    "df[\"Year\"] = df[\"Date\"].dt.year\n",
    "\n",
    "# ✅ Calculate simple metrics\n",
    "metrics = {\n",
    "    \"current_price\": df[\"Close\"].iloc[-1],\n",
    "    \"growth_pct\": ((df[\"Close\"].iloc[-1] - df[\"Close\"].iloc[0]) / df[\"Close\"].iloc[0]) * 100,\n",
    "    \"best_year\": df.loc[df[\"Close\"].idxmax()][\"Year\"],\n",
    "    \"worst_year\": df.loc[df[\"Close\"].idxmin()][\"Year\"]\n",
    "}\n",
    "\n",
    "# ✅ Prompt to send to phi3\n",
    "prompt = f\"\"\"\n",
    "Analyze stock {ticker}:\n",
    "\n",
    "- Current Price: ${metrics['current_price']:.2f}\n",
    "- 10-Year Growth: {metrics['growth_pct']:.2f}%\n",
    "- Best Year: {metrics['best_year']}\n",
    "- Worst Year: {metrics['worst_year']}\n",
    "- Correlation: 0.65\n",
    "- Sentiment: Positive\n",
    "\n",
    "Give 3 insights, 2 recommendations, and 1 risk.\n",
    "\"\"\"\n",
    "\n",
    "# ✅ Call the local Ollama model\n",
    "response = requests.post(\n",
    "    \"http://localhost:11434/api/generate\",\n",
    "    json={\"model\": \"phi3\", \"prompt\": prompt, \"stream\": False}\n",
    ")\n",
    "\n",
    "# ✅ Display response\n",
    "print(\"💡 AI-Generated Insights:\\n\")\n",
    "print(response.json()[\"response\"])\n",
    "\n"
   ]
  },
  {
   "cell_type": "code",
   "execution_count": null,
   "id": "43a1407f-d879-4f6a-9d35-cbc8184a392c",
   "metadata": {},
   "outputs": [],
   "source": []
  },
  {
   "cell_type": "code",
   "execution_count": null,
   "id": "22bdf621-b565-493f-ac92-21a8c233ebc4",
   "metadata": {},
   "outputs": [],
   "source": []
  },
  {
   "cell_type": "code",
   "execution_count": null,
   "id": "8793bc57-a304-41e4-80ea-add6d82c74aa",
   "metadata": {},
   "outputs": [],
   "source": []
  },
  {
   "cell_type": "code",
   "execution_count": null,
   "id": "235be541-7560-434f-b535-05eee9f438d3",
   "metadata": {},
   "outputs": [],
   "source": []
  }
 ],
 "metadata": {
  "kernelspec": {
   "display_name": "Python 3 (ipykernel)",
   "language": "python",
   "name": "python3"
  },
  "language_info": {
   "codemirror_mode": {
    "name": "ipython",
    "version": 3
   },
   "file_extension": ".py",
   "mimetype": "text/x-python",
   "name": "python",
   "nbconvert_exporter": "python",
   "pygments_lexer": "ipython3",
   "version": "3.10.0"
  }
 },
 "nbformat": 4,
 "nbformat_minor": 5
}
